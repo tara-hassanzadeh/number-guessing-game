{
  "nbformat": 4,
  "nbformat_minor": 0,
  "metadata": {
    "colab": {
      "provenance": [],
      "authorship_tag": "ABX9TyOyCMZpfa9ZD8jHLMJ9NQTh",
      "include_colab_link": true
    },
    "kernelspec": {
      "name": "python3",
      "display_name": "Python 3"
    },
    "language_info": {
      "name": "python"
    }
  },
  "cells": [
    {
      "cell_type": "markdown",
      "metadata": {
        "id": "view-in-github",
        "colab_type": "text"
      },
      "source": [
        "<a href=\"https://colab.research.google.com/github/tara-hassanzadeh/number-guessing-game/blob/main/number_guessing_game.ipynb\" target=\"_parent\"><img src=\"https://colab.research.google.com/assets/colab-badge.svg\" alt=\"Open In Colab\"/></a>"
      ]
    },
    {
      "cell_type": "markdown",
      "source": [
        "Basic number guessing game"
      ],
      "metadata": {
        "id": "_ooa18E1Wq9E"
      }
    },
    {
      "cell_type": "code",
      "execution_count": 2,
      "metadata": {
        "colab": {
          "base_uri": "https://localhost:8080/"
        },
        "id": "HPCT9binWpiz",
        "outputId": "edb26aad-04bd-4330-97e1-e2f3cb62f045"
      },
      "outputs": [
        {
          "output_type": "stream",
          "name": "stdout",
          "text": [
            "Welcome to the Number Guessing Game!\n",
            "I'm thinking of a number between 1 and 100. Can you guess it?\n",
            "Enter your guess: 50\n",
            "Too high! Try again.\n",
            "Enter your guess: 43\n",
            "Too high! Try again.\n",
            "Enter your guess: 21\n",
            "Too low! Try again.\n",
            "Enter your guess: 28\n",
            "Too low! Try again.\n",
            "Enter your guess: 39\n",
            "Too high! Try again.\n",
            "Enter your guess: 38\n",
            "Too high! Try again.\n",
            "Enter your guess: 34\n",
            "Too high! Try again.\n",
            "Enter your guess: 29\n",
            "Too low! Try again.\n",
            "Enter your guess: 30\n",
            "Congratulations! You guessed the number 30 in 9 attempts.\n"
          ]
        }
      ],
      "source": [
        "import random\n",
        "def number_guessing_game():\n",
        "    print(\"Welcome to the Number Guessing Game!\")\n",
        "    print(\"I'm thinking of a number between 1 and 100. Can you guess it?\")\n",
        "    secret_number = random.randint(1, 100)\n",
        "    attempts = 0\n",
        "    while True:\n",
        "      try:\n",
        "        guess = int(input(\"Enter your guess: \"))\n",
        "        attempts += 1\n",
        "        if guess < secret_number:\n",
        "            print(\"Too low! Try again.\")\n",
        "        elif guess > secret_number:\n",
        "            print(\"Too high! Try again.\")\n",
        "        else:\n",
        "            print(f\"Congratulations! You guessed the number {secret_number} in {attempts} attempts.\")\n",
        "            break\n",
        "      except ValueError:\n",
        "            print(\"Invalid input. Please enter a valid number.\")\n",
        "if __name__ == \"__main__\":\n",
        "    number_guessing_game()"
      ]
    }
  ]
}